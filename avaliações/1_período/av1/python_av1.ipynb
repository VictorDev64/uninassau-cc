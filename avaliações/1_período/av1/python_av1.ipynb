{
  "nbformat": 4,
  "nbformat_minor": 0,
  "metadata": {
    "colab": {
      "provenance": [],
      "authorship_tag": "ABX9TyNyO6HIv96XAFMmIufRy6lp",
      "include_colab_link": true
    },
    "kernelspec": {
      "name": "python3",
      "display_name": "Python 3"
    },
    "language_info": {
      "name": "python"
    }
  },
  "cells": [
    {
      "cell_type": "markdown",
      "metadata": {
        "id": "view-in-github",
        "colab_type": "text"
      },
      "source": [
        "<a href=\"https://colab.research.google.com/github/VictorDev64/uninassau-av1/blob/main/python_av1.ipynb\" target=\"_parent\"><img src=\"https://colab.research.google.com/assets/colab-badge.svg\" alt=\"Open In Colab\"/></a>"
      ]
    },
    {
      "cell_type": "markdown",
      "source": [
        "# Trabalho para Lógica de Programação"
      ],
      "metadata": {
        "id": "lHIqI5r9r_W2"
      }
    },
    {
      "cell_type": "markdown",
      "source": [
        "1. Faça um programa que leia 3 números inteiros e os imprima em ordem crescente."
      ],
      "metadata": {
        "id": "eIEXQI7IrwyY"
      }
    },
    {
      "cell_type": "code",
      "execution_count": 118,
      "metadata": {
        "id": "lB_G0n2ZiAi6",
        "colab": {
          "base_uri": "https://localhost:8080/"
        },
        "outputId": "ad80c662-32b8-4731-a4b1-8fa21dc86433"
      },
      "outputs": [
        {
          "output_type": "stream",
          "name": "stdout",
          "text": [
            "[2, 6, 7]\n"
          ]
        }
      ],
      "source": [
        "minhaLista = (2,7,6)\n",
        "\n",
        "print(sorted(minhaLista))"
      ]
    },
    {
      "cell_type": "markdown",
      "source": [
        "2. Escreva um programa que exiba na saída padrão os 100 primeiros números\n",
        "naturais (inteiros positivos incluindo o zero)."
      ],
      "metadata": {
        "id": "rxXJ5e-Ts4gn"
      }
    },
    {
      "cell_type": "code",
      "source": [
        "for i in range(100):\n",
        "  print(i)"
      ],
      "metadata": {
        "id": "Pqvs39dZlGMO",
        "colab": {
          "base_uri": "https://localhost:8080/"
        },
        "outputId": "80d0e0e7-5f12-4063-86fd-1ce8cbe04dfc"
      },
      "execution_count": 11,
      "outputs": [
        {
          "output_type": "stream",
          "name": "stdout",
          "text": [
            "0\n",
            "1\n",
            "2\n",
            "3\n",
            "4\n",
            "5\n",
            "6\n",
            "7\n",
            "8\n",
            "9\n",
            "10\n",
            "11\n",
            "12\n",
            "13\n",
            "14\n",
            "15\n",
            "16\n",
            "17\n",
            "18\n",
            "19\n",
            "20\n",
            "21\n",
            "22\n",
            "23\n",
            "24\n",
            "25\n",
            "26\n",
            "27\n",
            "28\n",
            "29\n",
            "30\n",
            "31\n",
            "32\n",
            "33\n",
            "34\n",
            "35\n",
            "36\n",
            "37\n",
            "38\n",
            "39\n",
            "40\n",
            "41\n",
            "42\n",
            "43\n",
            "44\n",
            "45\n",
            "46\n",
            "47\n",
            "48\n",
            "49\n",
            "50\n",
            "51\n",
            "52\n",
            "53\n",
            "54\n",
            "55\n",
            "56\n",
            "57\n",
            "58\n",
            "59\n",
            "60\n",
            "61\n",
            "62\n",
            "63\n",
            "64\n",
            "65\n",
            "66\n",
            "67\n",
            "68\n",
            "69\n",
            "70\n",
            "71\n",
            "72\n",
            "73\n",
            "74\n",
            "75\n",
            "76\n",
            "77\n",
            "78\n",
            "79\n",
            "80\n",
            "81\n",
            "82\n",
            "83\n",
            "84\n",
            "85\n",
            "86\n",
            "87\n",
            "88\n",
            "89\n",
            "90\n",
            "91\n",
            "92\n",
            "93\n",
            "94\n",
            "95\n",
            "96\n",
            "97\n",
            "98\n",
            "99\n"
          ]
        }
      ]
    },
    {
      "cell_type": "markdown",
      "source": [
        "3. Você está organizando um evento e deseja que os seus convidados se\n",
        "sintam importantes. Sendo assim, quando cada convidado chega ao local você\n",
        "pergunta o nome dele e digita no computador. Então o nome dele é exibido em\n",
        "um painel luminoso na entrada do salão. A mensagem que aparece é: \"Seja\n",
        "muito bem-vindo Fulano de Tal\", onde Fulano de Tal é o nome da pessoa que\n",
        "chegou.\n",
        "\n",
        "**Formato de entrada**\n",
        "\n",
        "O nome da pessoa, que pode conter até 120 caracteres\n",
        "\n",
        "**Formato de saída**\n",
        "\n",
        "O programa deve imprimir a mensagem \"Seja muito bem-vindo Fulano de Tal\","
      ],
      "metadata": {
        "id": "G0Zt-GgCsCdW"
      }
    },
    {
      "cell_type": "code",
      "source": [
        "def mensagemMeuNome(meuNome):\n",
        "  if len(meuNome) > 120:\n",
        "    print (\"Tente menos que 120 caracteres.\")\n",
        "  else:\n",
        "    print (\"Seja muito bem-vindo, \" + meuNome)\n",
        "\n",
        "mensagemMeuNome(input(\"Digite seu nome: \"))"
      ],
      "metadata": {
        "id": "jzLgQv23sDAp",
        "colab": {
          "base_uri": "https://localhost:8080/"
        },
        "outputId": "f019b1f5-5941-4121-b8e6-6290e8c369b4"
      },
      "execution_count": 139,
      "outputs": [
        {
          "output_type": "stream",
          "name": "stdout",
          "text": [
            "Digite seu nome: Seu Madruga\n",
            "Seja muito bem-vindo, Seu Madruga\n"
          ]
        }
      ]
    },
    {
      "cell_type": "markdown",
      "source": [
        "4. Faça um programa que dado um número indique se ele é um primo ou não.\n",
        "\n",
        "Obs: Para cada número lido você deve imprimir “Número não é Primo” caso o\n",
        "número não seja primo ou “Número Primo” caso seja."
      ],
      "metadata": {
        "id": "7FuXv2wYsDfd"
      }
    },
    {
      "cell_type": "code",
      "source": [
        "number = int(input(\"Digite um número: \"))\n",
        "if number > 1:\n",
        "  for i in range(2, number):\n",
        "    if (number % i) == 0:\n",
        "      print(\"Número não é Primo\")\n",
        "      break\n",
        "\n",
        "  else:\n",
        "    print(\"Número Primo\")"
      ],
      "metadata": {
        "id": "ewGygVmtsDsj",
        "colab": {
          "base_uri": "https://localhost:8080/"
        },
        "outputId": "f3be4055-e9d9-4cfb-bf72-20daa68c8625"
      },
      "execution_count": 116,
      "outputs": [
        {
          "output_type": "stream",
          "name": "stdout",
          "text": [
            "Digite um número: 2\n",
            "Número Primo\n"
          ]
        }
      ]
    },
    {
      "cell_type": "markdown",
      "source": [
        "  5. Serão dados n números correspondendo as notas da turma de alunos de\n",
        "uma escola.\n",
        "Escreva um programa que leia essas notas e calcule:\n",
        "- quantas estão mais de 10% acima da média.\n",
        "- quantas estão menos de 10% abaixo da média.\n",
        "\n",
        "**Formato de entrada**\n",
        "\n",
        "Na primeira linha você receberá um número inteiro n, que representará a\n",
        "quantidade de alunos da turma. N <= 20000.\n",
        "\n",
        "Em seguida você receberá n números reais, um em cada linha,\n",
        "correspondendo as notas de cada aluno da turma.\n",
        "\n",
        "**Formato de saída**\n",
        "\n",
        "Imprima na primeira linha da saída a média das notas formatada com duas\n",
        "casas decimais.\n",
        "\n",
        "Na segunda linha imprima quantas notas ficaram mais de 10% acima da média\n",
        "da turma.\n",
        "\n",
        "Na terceira linha imprima quantas notas ficaram menos de 10% abaixo da\n",
        "média da turma"
      ],
      "metadata": {
        "id": "-vB1444esEWk"
      }
    },
    {
      "cell_type": "code",
      "source": [
        "n = int(input(\"Digite a quantidade de alunos: \"))\n",
        "notas = []\n",
        "\n",
        "for i in range(n):\n",
        "  notas.append(float(input(\"Digite a nota do aluno: \")))\n",
        "  media = sum(notas) / len(notas)\n",
        "  acima = 0\n",
        "  abaixo = 0\n",
        "\n",
        "for nota in notas:\n",
        "  if nota > media * 1.1:\n",
        "    acima += 1\n",
        "  elif nota < media * 0.9:\n",
        "    abaixo += 1\n",
        "\n",
        "print(f'A média das notas é: {media:.2f}')\n",
        "print(f'Notas acima de 10% da média: {acima}')\n",
        "print(f'Notas abaixo de 10% da média: {abaixo}')"
      ],
      "metadata": {
        "id": "QVGS9wdhsE1n",
        "colab": {
          "base_uri": "https://localhost:8080/"
        },
        "outputId": "ec879dbf-8009-4c13-9666-bcd0cb10e849"
      },
      "execution_count": 28,
      "outputs": [
        {
          "output_type": "stream",
          "name": "stdout",
          "text": [
            "Digite a quantidade de alunos: 3\n",
            "Digite a nota do aluno: 10\n",
            "Digite a nota do aluno: 1\n",
            "Digite a nota do aluno: 8\n",
            "A média das notas é: 6.33\n",
            "Notas acima de 10% da média: 2\n",
            "Notas abaixo de 10% da média: 1\n"
          ]
        }
      ]
    },
    {
      "cell_type": "markdown",
      "source": [
        "6. Leia uma string e inverta o seu conteúdo. Exemplo: Se a string digitada for\n",
        "\"JANELA\", então você deve imprimir: \"ALENAJ\"."
      ],
      "metadata": {
        "id": "NH_b40lesFTe"
      }
    },
    {
      "cell_type": "code",
      "source": [
        "print(\"Digite uma palavra: \")\n",
        "palavra = input()\n",
        "print(palavra[::-1])"
      ],
      "metadata": {
        "id": "N-8Sy55GsF19",
        "colab": {
          "base_uri": "https://localhost:8080/"
        },
        "outputId": "838e4e2d-18d0-435a-d99f-06d6133b1e4c"
      },
      "execution_count": 142,
      "outputs": [
        {
          "output_type": "stream",
          "name": "stdout",
          "text": [
            "Digite uma palavra: \n",
            "!socorram me subino on ibus ,em-marrocos\n",
            "socorram-me, subi no onibus em marrocos!\n"
          ]
        }
      ]
    },
    {
      "cell_type": "markdown",
      "source": [
        "7. Faça um programa que leia uma string e dois caracteres. Troque todas as\n",
        "ocorrências do primeiro caracter pelo segundo. Exemplo: Seja a string\n",
        "\"maracatu\" e os caracteres 'a' e 'o', então a string ficará \"morocotu\".\n",
        "\n",
        "**Formato de entrada**\n",
        "\n",
        "Você receberá 03 linhas.\n",
        "\n",
        "- Primeira linha: a string\n",
        "- Segunda linha: o primeiro caracter\n",
        "- Terceira linha: o segundo caracter\n",
        "\n",
        "A string possui no máximo 100 caracteres.\n",
        "\n",
        "**Formato de saída**\n",
        "\n",
        "Imprima a palavra resultante da substituição dos caracteres na string original"
      ],
      "metadata": {
        "id": "k7OIwEp6tLOk"
      }
    },
    {
      "cell_type": "code",
      "source": [
        "def trocaCaracter(string, char1, char2):\n",
        "  if len(string) > 100:\n",
        "    print(\"Tente menos que 100 caracteres.\")\n",
        "  else:\n",
        "    return string.replace(char1, char2)\n",
        "\n",
        "string = input(\"Digite uma string: \")\n",
        "char1 = input(\"Digite o primeiro caracter: \")\n",
        "char2 = input(\"Digite o segundo caracter: \")\n",
        "\n",
        "print(trocaCaracter(string, char1, char2))"
      ],
      "metadata": {
        "id": "98TuMpa4tMTk",
        "colab": {
          "base_uri": "https://localhost:8080/"
        },
        "outputId": "d0780325-a924-4b6d-c716-f7056cf33af1"
      },
      "execution_count": 206,
      "outputs": [
        {
          "output_type": "stream",
          "name": "stdout",
          "text": [
            "Digite uma string: saramandaia\n",
            "Digite o primeiro caracter: a\n",
            "Digite o segundo caracter: o\n",
            "soromondoio\n"
          ]
        }
      ]
    },
    {
      "cell_type": "markdown",
      "source": [
        "8. Faça um programa para ler uma string e um caracter qualquer e calcular o\n",
        "índice da primeira ocorrência desse caracter na string. Caso não haja\n",
        "ocorrência, imprimir valor -1. Exemplo: Seja a string \"melancia\" e o caracter 'e', então o índice da primeira ocorrência do caracter na string é 1.\n",
        "\n",
        "Considere que o índice começa com 0.\n",
        "\n",
        "**Formato de entrada**\n",
        "\n",
        "Você receberá duas linhas. Na primeira linha receberá uma string e na\n",
        "segunda linha um caracter.\n",
        "\n",
        "**Formato de saída**\n",
        "\n",
        "Você deve imprimir um número inteiro correspondendo ao índice do caracter\n",
        "encontrado na string, seguido de um final de linha."
      ],
      "metadata": {
        "id": "j0qabvUctMil"
      }
    },
    {
      "cell_type": "code",
      "source": [
        "string = (input(\"Digite uma string: \"))\n",
        "caracter = (input(\"Digite um caracter: \"))\n",
        "\n",
        "if caracter in string:\n",
        "  print(string.index(caracter))\n",
        "else:\n",
        "  print(-1)"
      ],
      "metadata": {
        "id": "QdM2ebp5tMvn",
        "colab": {
          "base_uri": "https://localhost:8080/"
        },
        "outputId": "0915fd87-84d8-4105-9b95-ca2dacb4a9e4"
      },
      "execution_count": 216,
      "outputs": [
        {
          "output_type": "stream",
          "name": "stdout",
          "text": [
            "Digite uma string: melancia\n",
            "Digite um caracter: m\n",
            "0\n"
          ]
        }
      ]
    },
    {
      "cell_type": "markdown",
      "source": [
        "9. Escreva um programa leia 2 valores X e Y e que imprima todos os valores\n",
        "entre eles cujo resto da divisão dele por 5 for igual a 2 ou igual a 3.\n",
        "\n",
        "**Formato de entrada**\n",
        "\n",
        "Contém 2 valores inteiros quaisquer, não necessariamente em ordem\n",
        "crescente.\n",
        "\n",
        "**Formato de saída**\n",
        "\n",
        "Todos os inteiros entre x e y, um por linha,"
      ],
      "metadata": {
        "id": "XTIYnbEBtNVM"
      }
    },
    {
      "cell_type": "code",
      "source": [
        "x = int(input(\"Digite o primeiro número: \"))\n",
        "y = int(input(\"Digite o segundo número: \"))\n",
        "\n",
        "if x < y:\n",
        "    for i in range(x, y):\n",
        "        if i % 5 == 2 or i % 5 == 3:\n",
        "            print(i)"
      ],
      "metadata": {
        "id": "kfESD2GOtSHT",
        "colab": {
          "base_uri": "https://localhost:8080/"
        },
        "outputId": "93660019-8d3c-4d14-83df-f13b5e2501f8"
      },
      "execution_count": 25,
      "outputs": [
        {
          "output_type": "stream",
          "name": "stdout",
          "text": [
            "Digite o primeiro número: 2\n",
            "Digite o segundo número: 25\n",
            "2\n",
            "3\n",
            "7\n",
            "8\n",
            "12\n",
            "13\n",
            "17\n",
            "18\n",
            "22\n",
            "23\n"
          ]
        }
      ]
    },
    {
      "cell_type": "markdown",
      "source": [
        "10. Faça um programa que leia n números inteiros dados e os imprima:\n",
        "\n",
        "a) na ordem inversa dos números dados\n",
        "\n",
        "b) ordenado em ordem decrescente"
      ],
      "metadata": {
        "id": "oixJ4aGbtS2Z"
      }
    },
    {
      "cell_type": "code",
      "source": [
        "a = int(input('Digite um número: '))\n",
        "b = int(input('Digite um número: '))\n",
        "c = int(input('Digite um número: '))\n",
        "\n",
        "# a) na ordem inversa dos números dados\n",
        "print(f'A ordem inversa é {c}, {b} e {a}')\n",
        "\n",
        "# b) ordenando em ordem decrescente\n",
        "if a < c:\n",
        "    a, c = c, a\n",
        "\n",
        "if a < b:\n",
        "    a, b = b, a\n",
        "\n",
        "if b < c:\n",
        "    b, c = c, b\n",
        "\n",
        "print(f'A ordem decrescente é {a}, {b} e {c}')"
      ],
      "metadata": {
        "colab": {
          "base_uri": "https://localhost:8080/"
        },
        "id": "1KCoTjqM41X8",
        "outputId": "b1577ada-a53c-40ad-9090-1a6d394aabf2"
      },
      "execution_count": 35,
      "outputs": [
        {
          "output_type": "stream",
          "name": "stdout",
          "text": [
            "Digite um número: 3\n",
            "Digite um número: 9\n",
            "Digite um número: 5\n",
            "A ordem inversa é 5, 9 e 3\n",
            "A ordem decrescente é 9, 5 e 3\n"
          ]
        }
      ]
    }
  ]
}